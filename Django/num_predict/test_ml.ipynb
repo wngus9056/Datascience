{
    "cells": [
        {
            "cell_type": "code",
            "execution_count": 1,
            "source": [
                "import pytest\r\n",
                "from ml import predict"
            ],
            "outputs": [],
            "metadata": {}
        },
        {
            "cell_type": "code",
            "execution_count": 5,
            "source": [
                "predict(\"3.png\") == 3"
            ],
            "outputs": [
                {
                    "output_type": "execute_result",
                    "data": {
                        "text/plain": [
                            "True"
                        ]
                    },
                    "metadata": {},
                    "execution_count": 5
                }
            ],
            "metadata": {}
        },
        {
            "cell_type": "code",
            "execution_count": 11,
            "source": [
                "@pytest.mark.parametrize(\"image_path, expected\", [\r\n",
                "    (\"3.jpg\", 3),\r\n",
                "    (\"3.png\", 3),\r\n",
                "    (\"4.jpg\", 4)\r\n",
                "])"
            ],
            "outputs": [
                {
                    "output_type": "error",
                    "ename": "SyntaxError",
                    "evalue": "unexpected EOF while parsing (<ipython-input-11-2dc6b338c735>, line 4)",
                    "traceback": [
                        "\u001b[1;36m  File \u001b[1;32m\"<ipython-input-11-2dc6b338c735>\"\u001b[1;36m, line \u001b[1;32m4\u001b[0m\n\u001b[1;33m    (\"4.jpg\", 4)])\u001b[0m\n\u001b[1;37m                  ^\u001b[0m\n\u001b[1;31mSyntaxError\u001b[0m\u001b[1;31m:\u001b[0m unexpected EOF while parsing\n"
                    ]
                }
            ],
            "metadata": {}
        }
    ],
    "metadata": {
        "orig_nbformat": 4,
        "language_info": {
            "name": "python",
            "version": "3.6.13",
            "mimetype": "text/x-python",
            "codemirror_mode": {
                "name": "ipython",
                "version": 3
            },
            "pygments_lexer": "ipython3",
            "nbconvert_exporter": "python",
            "file_extension": ".py"
        },
        "kernelspec": {
            "name": "python3",
            "display_name": "Python 3.6.13 64-bit ('Django': conda)"
        },
        "interpreter": {
            "hash": "1abd8d1eb9fff1e2276bdad66f82cc0e51cb5031817a2eb3a1c2d2f6a5ae98b4"
        }
    },
    "nbformat": 4,
    "nbformat_minor": 2
}